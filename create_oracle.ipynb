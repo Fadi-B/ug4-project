{
 "cells": [
  {
   "cell_type": "code",
   "execution_count": 4,
   "id": "8ae9ed11",
   "metadata": {},
   "outputs": [],
   "source": []
  },
  {
   "cell_type": "code",
   "execution_count": 5,
   "id": "7e8a0e4b",
   "metadata": {},
   "outputs": [
    {
     "data": {
      "text/plain": [
       "'/opt/conda/lib/python3.9/site-packages/ipykernel_launcher.py'"
      ]
     },
     "execution_count": 5,
     "metadata": {},
     "output_type": "execute_result"
    }
   ],
   "source": [
    "import numpy as np\n",
    "import trace_file_processor as tp\n",
    "\n",
    "import sys\n",
    "import os\n",
    "\n",
    "### Pantheon start up delay measured experimentally - Might vary between experiments slightly ###\n",
    "PANTH_DELAY_FACTOR = 3.128\n",
    "\n",
    "def create_oracle_data(trace, granularity, delay_factor, oracle_filename):\n",
    "    \n",
    "    rate, time = tp.process_trace(trace, granularity)\n",
    "    \n",
    "    # Will hold the index of the entries in the trace that should be ignored\n",
    "    # as pantheon starts a bit later\n",
    "    ignore_index = 0\n",
    "    \n",
    "    for i in range(0, len(time)):\n",
    "        \n",
    "        # Should be careful here since if it is larger than 3.06\n",
    "        # (e.g when using non-divisible granularity like 7ms) then might want\n",
    "        # to include that instead of throwing it away as the pantheon delay itself is 3.06\n",
    "        \n",
    "        if (time[i] >= PANTH_DELAY_FACTOR):\n",
    "            \n",
    "            ignore_index = i\n",
    "\n",
    "            # Break to ensure we do not loop alter true value of ignore_index  \n",
    "            break\n",
    "    \n",
    "    rate_oracle = rate[ignore_index + 1:]\n",
    "    rate_oracle = np.concatenate(([granularity], rate_oracle)) #Add granularity at head of list\n",
    "    \n",
    "    # The time array is not used in the bytes version\n",
    "    tp.store_to_csv(rate_oracle, time, granularity, oracle_filename, version=\"bytes\")\n",
    "    \n",
    "    return\n",
    "\n",
    "def main():\n",
    "    \n",
    "    oracle_name = \"oracle.txt\"\n",
    "\n",
    "    trace_file = sys.argv[1]\n",
    "    granularity = float(sys.argv[2])\n",
    "    \n",
    "    \n",
    "    #Check if file exists since we want to create brand new oracles\n",
    "    if (os.path.isfile(oracle_name)):\n",
    "        \n",
    "        os.remove(oracle_name)\n",
    "        \n",
    "    if (os.path.isfile(\"elapsed_time.txt\")):\n",
    "        \n",
    "        os.remove(\"elapsed_time.txt\")\n",
    "    \n",
    "    create_oracle_data(trace_file, granularity, PANTH_DELAY_FACTOR, oracle_name)\n",
    "\n",
    "if __name__ == '__main__':\n",
    "    main()"
   ]
  },
  {
   "cell_type": "code",
   "execution_count": null,
   "id": "92ff481d",
   "metadata": {},
   "outputs": [],
   "source": []
  }
 ],
 "metadata": {
  "kernelspec": {
   "display_name": "Python 3 (ipykernel)",
   "language": "python",
   "name": "python3"
  },
  "language_info": {
   "codemirror_mode": {
    "name": "ipython",
    "version": 3
   },
   "file_extension": ".py",
   "mimetype": "text/x-python",
   "name": "python",
   "nbconvert_exporter": "python",
   "pygments_lexer": "ipython3",
   "version": "3.9.12"
  }
 },
 "nbformat": 4,
 "nbformat_minor": 5
}
