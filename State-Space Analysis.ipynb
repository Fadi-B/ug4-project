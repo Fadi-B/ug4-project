{
 "cells": [
  {
   "cell_type": "code",
   "execution_count": 1,
   "id": "e018875b",
   "metadata": {},
   "outputs": [],
   "source": [
    "import pandas as pd\n",
    "import numpy as np\n",
    "import matplotlib.pyplot as plt\n",
    "\n",
    "import trace_file_processor as tfp\n"
   ]
  },
  {
   "cell_type": "code",
   "execution_count": 2,
   "id": "316adeee",
   "metadata": {},
   "outputs": [],
   "source": [
    "\n",
    "\n",
    "#Delay factor is the delay in seconds for the receiver to observe data after trace experiment has begun\n",
    "#This was derived experimentally from Pantheon - should double check exact value since it is an approx. right now\n",
    "DELAY_FACTOR = 3.128"
   ]
  },
  {
   "cell_type": "code",
   "execution_count": 3,
   "id": "cbdde33d",
   "metadata": {},
   "outputs": [],
   "source": [
    "\n",
    "def plot_trace(rate, time):\n",
    "    \n",
    "    plt.figure(figsize=(7,5))\n",
    "    plt.fill_between(time[0:58], 0, rate[1:58], facecolor='green')\n",
    "    plt.show()\n",
    "\n",
    "    \n",
    "def read_data(filename):\n",
    "    \n",
    "    import csv\n",
    "    \n",
    "    data : list\n",
    "\n",
    "    with open(filename, newline='') as csvfile:\n",
    "        \n",
    "        data = list(csv.reader(csvfile))\n",
    "        \n",
    "    return np.array([float(x[0]) for x in data])\n",
    "\n",
    "\n",
    "def pre_process_data(data):\n",
    "    \n",
    "    for i in range(0, len(data)):\n",
    "        \n",
    "        if (data[i] == float(\"nan\")):\n",
    "            \n",
    "            data[i] = 0\n",
    "    \n",
    "    return data\n",
    "\n",
    "\n",
    "def check_data_length(data):\n",
    "    \n",
    "    trace_length = len(data[1:]) * data[0] #in ms\n",
    "    return trace_length\n",
    "\n",
    "def pad_data_with_starting_delay(data):\n",
    "    \n",
    "    TICK_TIME = data[0] / 1000\n",
    "    \n",
    "    #Number of pre-pends before we actually observe data\n",
    "    iterations = int(DELAY_FACTOR / TICK_TIME)\n",
    "    \n",
    "    #Drop the tick time indicator at the start\n",
    "    data = data[1:]\n",
    "        \n",
    "    for i in range (0, iterations):\n",
    "        \n",
    "        #Pre-pend with zeros as no data observed\n",
    "        data = np.concatenate(([0], data))\n",
    "    \n",
    "    #Add the tick time indicator back\n",
    "    data = np.concatenate(([TICK_TIME*1000], data))\n",
    "    \n",
    "    return data\n",
    "\n",
    "\n",
    "#Ensure length of trace corresponds to length of data (to ensure consistent plotting)\n",
    "\n",
    "def get_corresponding_trace_length(trace, data):\n",
    "    \n",
    "    TICK_TIME = data[0] / 1000\n",
    "    \n",
    "    data_length = check_data_length(data) / 1000\n",
    "    \n",
    "    trace_index = (1/TICK_TIME) * data_length\n",
    "    \n",
    "    #Ensure we add additional datapoints introduced for the delay of the data collection\n",
    "    trace_index = trace_index + int(DELAY_FACTOR / TICK_TIME)\n",
    "    \n",
    "    return int(trace_index)\n",
    "\n",
    "def plot_data(data):\n",
    "    \n",
    "    TICK_TIME = data[0] / 1000\n",
    "    \n",
    "    x_coord = np.array([(TICK_TIME)*(i+1) for i in np.arange(len(data[1:]))])\n",
    "    y_coord = data[1:]\n",
    "    \n",
    "    plt.fill_between(x_coord, 0, y_coord, facecolor='blue')\n",
    "    plt.show()\n",
    "\n",
    "\"\"\"\n",
    "\n",
    "This takes an arbitrary number of lists of data\n",
    "and plots them all on subplots to allow for\n",
    "comparison\n",
    "\n",
    "NOTE: The first argument has to be the true link capacity as otherwise\n",
    "      the results will not be shifted correct in time\n",
    "\n",
    "\"\"\"\n",
    "def plot_all(*argv):\n",
    "    \n",
    "    TICK_TIME = argv[0][0] / 1000 #First entry in data sets is the tick time in ms\n",
    "    CAPACITY_TRACE_INDEX = 0\n",
    "    \n",
    "    data_sets = len(argv)\n",
    "    \n",
    "    ROWS = data_sets + 1 #+1 for the superposing\n",
    "    COLUMNS = 1\n",
    "    \n",
    "    fig, axs = plt.subplots(ROWS, COLUMNS, figsize=(8, 25))\n",
    "    \n",
    "    #fig.suptitle('Shows the trace and the corresponding congestion control metrics')\n",
    "    \n",
    "    color_list = ['pink', 'purple', 'blue', 'olive', 'cyan', 'red', 'orange', 'brown', 'gray']\n",
    "    \n",
    "    data = argv[CAPACITY_TRACE_INDEX]\n",
    "    \n",
    "    #IMPORTANT: argv argument (in this case argv[2]) should be the shortest array of data to ensure correct overlap when plotting\n",
    "    trace_plot_length = get_corresponding_trace_length(argv[CAPACITY_TRACE_INDEX], argv[1])\n",
    "    \n",
    "    titles = [\"Channel Bandwidth\", \"Throughput\", \"RTT Gradient\", \"Queueing Delay\", \"Inter Arrival Time\"]\n",
    "    y_labels = [\"Throughput (Mbit/s)\", \"Throughput (Mbit/s)\", \"RTT Gradient (Dimensionless)\", \"Queuing Delay (s)\", \"Inter Arrival Time (s)\", \"Throughput (Mbit/s)\"]\n",
    "    \n",
    "    for i in range(0, len(argv)):\n",
    "        \n",
    "        if (not (i == CAPACITY_TRACE_INDEX)):\n",
    "            \n",
    "            data = pad_data_with_starting_delay(argv[i])[1:trace_plot_length] #Drop tick time indicator\n",
    "            plot_length = len(data[1:trace_plot_length]) + 1    # +1 to ensure we match the last element\n",
    "            #print(\"NON-TRACE\")\n",
    "            #print(len(data))\n",
    "            #print(plot_length)            \n",
    "        \n",
    "        else:\n",
    "            \n",
    "            data = argv[i][1:trace_plot_length]\n",
    "            plot_length = trace_plot_length - 1 # -1 to ensure we do not add additional datapoint\n",
    "            \n",
    "            #print(\"TRACE\")\n",
    "            #print(len(data))\n",
    "            #print(plot_length)\n",
    "            \n",
    "        x_coord = np.array([(TICK_TIME)*(k+1) for k in np.arange(plot_length)])\n",
    "        axs[i].fill_between(x_coord, 0, data, facecolor=color_list[i])\n",
    "        #axs[i].scatter(x_coord, data, color=color_list[i])\n",
    "        \n",
    "        axs[i].set_title(titles[i], pad=20, fontsize=14)\n",
    "        axs[i].set_xlabel(\"Time (s)\", fontsize=12)\n",
    "        axs[i].set_ylabel(y_labels[i], fontsize=12)\n",
    "        \n",
    "        #axs[i].savefig(titles[i] + \".png\")\n",
    "    \n",
    "    data_cap = argv[CAPACITY_TRACE_INDEX][1:trace_plot_length]\n",
    "    data_thr = pad_data_with_starting_delay(argv[1])[1:trace_plot_length]\n",
    "    \n",
    "    axs[ROWS - 1].fill_between(x_coord, 0, data_cap, facecolor=color_list[CAPACITY_TRACE_INDEX])\n",
    "    axs[ROWS - 1].fill_between(x_coord, 0, data_thr, facecolor=color_list[1])\n",
    "    axs[ROWS - 1].set_xlabel(\"Time (s)\", fontsize=12)\n",
    "    axs[ROWS - 1].set_ylabel(y_labels[ROWS - 1])\n",
    "    \n",
    "    #Label properly\n",
    "    \n",
    "    fig.tight_layout(pad=2.0)\n",
    "    \n",
    "    #fig.savefig('sample_output.png', bbox_inches='tight', dpi=1000)\n",
    "    "
   ]
  },
  {
   "cell_type": "code",
   "execution_count": 4,
   "id": "b117f9f0",
   "metadata": {},
   "outputs": [],
   "source": [
    "trace_name = 'TMobile-UMTS'\n",
    "\n",
    "TICK_TIME = 60\n",
    "\n",
    "#Load the trace data\n",
    "rate, time = tfp.process_trace('traces/' + trace_name + '-driving.up', TICK_TIME)\n",
    "\n",
    "\n",
    "#Adding tick time indicator for the rate - should probably add at an earlier stage\n",
    "rate = np.concatenate(([TICK_TIME], rate))"
   ]
  },
  {
   "cell_type": "code",
   "execution_count": 46,
   "id": "22444b3b",
   "metadata": {},
   "outputs": [],
   "source": [
    "\n",
    "path = 'TRAIN-DATA/'\n",
    "\n",
    "rtt_grad_data = read_data(path + trace_name + '/rtt_grad_data_run_1.csv')\n",
    "throughput = read_data(path + trace_name + '/throughput_data_run_1.csv')\n",
    "\n",
    "queue_delay = read_data(path + trace_name + '/queue_delay_data_run_1.csv')\n",
    "inter_arrival = read_data(path + trace_name + '/inter_arrival_data_run_1.csv')\n",
    "\n"
   ]
  },
  {
   "cell_type": "code",
   "execution_count": 47,
   "id": "fce0f376",
   "metadata": {
    "scrolled": false
   },
   "outputs": [
    {
     "ename": "ValueError",
     "evalue": "operands could not be broadcast together with shapes (280023,) (15510,) ",
     "output_type": "error",
     "traceback": [
      "\u001b[0;31m---------------------------------------------------------------------------\u001b[0m",
      "\u001b[0;31mValueError\u001b[0m                                Traceback (most recent call last)",
      "Input \u001b[0;32mIn [47]\u001b[0m, in \u001b[0;36m<cell line: 3>\u001b[0;34m()\u001b[0m\n\u001b[1;32m      1\u001b[0m check_data_length(rate)\n\u001b[0;32m----> 3\u001b[0m \u001b[43mplot_all\u001b[49m\u001b[43m(\u001b[49m\u001b[43mrate\u001b[49m\u001b[43m,\u001b[49m\u001b[43m \u001b[49m\u001b[43mthroughput\u001b[49m\u001b[43m,\u001b[49m\u001b[43m \u001b[49m\u001b[43mrtt_grad_data\u001b[49m\u001b[43m,\u001b[49m\u001b[43m \u001b[49m\u001b[43mqueue_delay\u001b[49m\u001b[43m,\u001b[49m\u001b[43m \u001b[49m\u001b[43minter_arrival\u001b[49m\u001b[43m)\u001b[49m\n",
      "Input \u001b[0;32mIn [3]\u001b[0m, in \u001b[0;36mplot_all\u001b[0;34m(*argv)\u001b[0m\n\u001b[1;32m    132\u001b[0m     \u001b[38;5;66;03m#print(\"TRACE\")\u001b[39;00m\n\u001b[1;32m    133\u001b[0m     \u001b[38;5;66;03m#print(len(data))\u001b[39;00m\n\u001b[1;32m    134\u001b[0m     \u001b[38;5;66;03m#print(plot_length)\u001b[39;00m\n\u001b[1;32m    136\u001b[0m x_coord \u001b[38;5;241m=\u001b[39m np\u001b[38;5;241m.\u001b[39marray([(TICK_TIME)\u001b[38;5;241m*\u001b[39m(k\u001b[38;5;241m+\u001b[39m\u001b[38;5;241m1\u001b[39m) \u001b[38;5;28;01mfor\u001b[39;00m k \u001b[38;5;129;01min\u001b[39;00m np\u001b[38;5;241m.\u001b[39marange(plot_length)])\n\u001b[0;32m--> 137\u001b[0m \u001b[43maxs\u001b[49m\u001b[43m[\u001b[49m\u001b[43mi\u001b[49m\u001b[43m]\u001b[49m\u001b[38;5;241;43m.\u001b[39;49m\u001b[43mfill_between\u001b[49m\u001b[43m(\u001b[49m\u001b[43mx_coord\u001b[49m\u001b[43m,\u001b[49m\u001b[43m \u001b[49m\u001b[38;5;241;43m0\u001b[39;49m\u001b[43m,\u001b[49m\u001b[43m \u001b[49m\u001b[43mdata\u001b[49m\u001b[43m,\u001b[49m\u001b[43m \u001b[49m\u001b[43mfacecolor\u001b[49m\u001b[38;5;241;43m=\u001b[39;49m\u001b[43mcolor_list\u001b[49m\u001b[43m[\u001b[49m\u001b[43mi\u001b[49m\u001b[43m]\u001b[49m\u001b[43m)\u001b[49m\n\u001b[1;32m    138\u001b[0m \u001b[38;5;66;03m#axs[i].scatter(x_coord, data, color=color_list[i])\u001b[39;00m\n\u001b[1;32m    140\u001b[0m axs[i]\u001b[38;5;241m.\u001b[39mset_title(titles[i], pad\u001b[38;5;241m=\u001b[39m\u001b[38;5;241m20\u001b[39m, fontsize\u001b[38;5;241m=\u001b[39m\u001b[38;5;241m14\u001b[39m)\n",
      "File \u001b[0;32m/opt/conda/lib/python3.9/site-packages/matplotlib/__init__.py:1412\u001b[0m, in \u001b[0;36m_preprocess_data.<locals>.inner\u001b[0;34m(ax, data, *args, **kwargs)\u001b[0m\n\u001b[1;32m   1409\u001b[0m \u001b[38;5;129m@functools\u001b[39m\u001b[38;5;241m.\u001b[39mwraps(func)\n\u001b[1;32m   1410\u001b[0m \u001b[38;5;28;01mdef\u001b[39;00m \u001b[38;5;21minner\u001b[39m(ax, \u001b[38;5;241m*\u001b[39margs, data\u001b[38;5;241m=\u001b[39m\u001b[38;5;28;01mNone\u001b[39;00m, \u001b[38;5;241m*\u001b[39m\u001b[38;5;241m*\u001b[39mkwargs):\n\u001b[1;32m   1411\u001b[0m     \u001b[38;5;28;01mif\u001b[39;00m data \u001b[38;5;129;01mis\u001b[39;00m \u001b[38;5;28;01mNone\u001b[39;00m:\n\u001b[0;32m-> 1412\u001b[0m         \u001b[38;5;28;01mreturn\u001b[39;00m \u001b[43mfunc\u001b[49m\u001b[43m(\u001b[49m\u001b[43max\u001b[49m\u001b[43m,\u001b[49m\u001b[43m \u001b[49m\u001b[38;5;241;43m*\u001b[39;49m\u001b[38;5;28;43mmap\u001b[39;49m\u001b[43m(\u001b[49m\u001b[43msanitize_sequence\u001b[49m\u001b[43m,\u001b[49m\u001b[43m \u001b[49m\u001b[43margs\u001b[49m\u001b[43m)\u001b[49m\u001b[43m,\u001b[49m\u001b[43m \u001b[49m\u001b[38;5;241;43m*\u001b[39;49m\u001b[38;5;241;43m*\u001b[39;49m\u001b[43mkwargs\u001b[49m\u001b[43m)\u001b[49m\n\u001b[1;32m   1414\u001b[0m     bound \u001b[38;5;241m=\u001b[39m new_sig\u001b[38;5;241m.\u001b[39mbind(ax, \u001b[38;5;241m*\u001b[39margs, \u001b[38;5;241m*\u001b[39m\u001b[38;5;241m*\u001b[39mkwargs)\n\u001b[1;32m   1415\u001b[0m     auto_label \u001b[38;5;241m=\u001b[39m (bound\u001b[38;5;241m.\u001b[39marguments\u001b[38;5;241m.\u001b[39mget(label_namer)\n\u001b[1;32m   1416\u001b[0m                   \u001b[38;5;129;01mor\u001b[39;00m bound\u001b[38;5;241m.\u001b[39mkwargs\u001b[38;5;241m.\u001b[39mget(label_namer))\n",
      "File \u001b[0;32m/opt/conda/lib/python3.9/site-packages/matplotlib/axes/_axes.py:5245\u001b[0m, in \u001b[0;36mAxes.fill_between\u001b[0;34m(self, x, y1, y2, where, interpolate, step, **kwargs)\u001b[0m\n\u001b[1;32m   5243\u001b[0m \u001b[38;5;28;01mdef\u001b[39;00m \u001b[38;5;21mfill_between\u001b[39m(\u001b[38;5;28mself\u001b[39m, x, y1, y2\u001b[38;5;241m=\u001b[39m\u001b[38;5;241m0\u001b[39m, where\u001b[38;5;241m=\u001b[39m\u001b[38;5;28;01mNone\u001b[39;00m, interpolate\u001b[38;5;241m=\u001b[39m\u001b[38;5;28;01mFalse\u001b[39;00m,\n\u001b[1;32m   5244\u001b[0m                  step\u001b[38;5;241m=\u001b[39m\u001b[38;5;28;01mNone\u001b[39;00m, \u001b[38;5;241m*\u001b[39m\u001b[38;5;241m*\u001b[39mkwargs):\n\u001b[0;32m-> 5245\u001b[0m     \u001b[38;5;28;01mreturn\u001b[39;00m \u001b[38;5;28;43mself\u001b[39;49m\u001b[38;5;241;43m.\u001b[39;49m\u001b[43m_fill_between_x_or_y\u001b[49m\u001b[43m(\u001b[49m\n\u001b[1;32m   5246\u001b[0m \u001b[43m        \u001b[49m\u001b[38;5;124;43m\"\u001b[39;49m\u001b[38;5;124;43mx\u001b[39;49m\u001b[38;5;124;43m\"\u001b[39;49m\u001b[43m,\u001b[49m\u001b[43m \u001b[49m\u001b[43mx\u001b[49m\u001b[43m,\u001b[49m\u001b[43m \u001b[49m\u001b[43my1\u001b[49m\u001b[43m,\u001b[49m\u001b[43m \u001b[49m\u001b[43my2\u001b[49m\u001b[43m,\u001b[49m\n\u001b[1;32m   5247\u001b[0m \u001b[43m        \u001b[49m\u001b[43mwhere\u001b[49m\u001b[38;5;241;43m=\u001b[39;49m\u001b[43mwhere\u001b[49m\u001b[43m,\u001b[49m\u001b[43m \u001b[49m\u001b[43minterpolate\u001b[49m\u001b[38;5;241;43m=\u001b[39;49m\u001b[43minterpolate\u001b[49m\u001b[43m,\u001b[49m\u001b[43m \u001b[49m\u001b[43mstep\u001b[49m\u001b[38;5;241;43m=\u001b[39;49m\u001b[43mstep\u001b[49m\u001b[43m,\u001b[49m\u001b[43m \u001b[49m\u001b[38;5;241;43m*\u001b[39;49m\u001b[38;5;241;43m*\u001b[39;49m\u001b[43mkwargs\u001b[49m\u001b[43m)\u001b[49m\n",
      "File \u001b[0;32m/opt/conda/lib/python3.9/site-packages/matplotlib/axes/_axes.py:5166\u001b[0m, in \u001b[0;36mAxes._fill_between_x_or_y\u001b[0;34m(self, ind_dir, ind, dep1, dep2, where, interpolate, step, **kwargs)\u001b[0m\n\u001b[1;32m   5163\u001b[0m     \u001b[38;5;28;01mif\u001b[39;00m where\u001b[38;5;241m.\u001b[39msize \u001b[38;5;241m!=\u001b[39m ind\u001b[38;5;241m.\u001b[39msize:\n\u001b[1;32m   5164\u001b[0m         \u001b[38;5;28;01mraise\u001b[39;00m \u001b[38;5;167;01mValueError\u001b[39;00m(\u001b[38;5;124mf\u001b[39m\u001b[38;5;124m\"\u001b[39m\u001b[38;5;124mwhere size (\u001b[39m\u001b[38;5;132;01m{\u001b[39;00mwhere\u001b[38;5;241m.\u001b[39msize\u001b[38;5;132;01m}\u001b[39;00m\u001b[38;5;124m) does not match \u001b[39m\u001b[38;5;124m\"\u001b[39m\n\u001b[1;32m   5165\u001b[0m                          \u001b[38;5;124mf\u001b[39m\u001b[38;5;124m\"\u001b[39m\u001b[38;5;132;01m{\u001b[39;00mind_dir\u001b[38;5;132;01m}\u001b[39;00m\u001b[38;5;124m size (\u001b[39m\u001b[38;5;132;01m{\u001b[39;00mind\u001b[38;5;241m.\u001b[39msize\u001b[38;5;132;01m}\u001b[39;00m\u001b[38;5;124m)\u001b[39m\u001b[38;5;124m\"\u001b[39m)\n\u001b[0;32m-> 5166\u001b[0m where \u001b[38;5;241m=\u001b[39m where \u001b[38;5;241m&\u001b[39m \u001b[38;5;241m~\u001b[39m\u001b[43mfunctools\u001b[49m\u001b[38;5;241;43m.\u001b[39;49m\u001b[43mreduce\u001b[49m\u001b[43m(\u001b[49m\n\u001b[1;32m   5167\u001b[0m \u001b[43m    \u001b[49m\u001b[43mnp\u001b[49m\u001b[38;5;241;43m.\u001b[39;49m\u001b[43mlogical_or\u001b[49m\u001b[43m,\u001b[49m\u001b[43m \u001b[49m\u001b[38;5;28;43mmap\u001b[39;49m\u001b[43m(\u001b[49m\u001b[43mnp\u001b[49m\u001b[38;5;241;43m.\u001b[39;49m\u001b[43mma\u001b[49m\u001b[38;5;241;43m.\u001b[39;49m\u001b[43mgetmask\u001b[49m\u001b[43m,\u001b[49m\u001b[43m \u001b[49m\u001b[43m[\u001b[49m\u001b[43mind\u001b[49m\u001b[43m,\u001b[49m\u001b[43m \u001b[49m\u001b[43mdep1\u001b[49m\u001b[43m,\u001b[49m\u001b[43m \u001b[49m\u001b[43mdep2\u001b[49m\u001b[43m]\u001b[49m\u001b[43m)\u001b[49m\u001b[43m)\u001b[49m\n\u001b[1;32m   5169\u001b[0m ind, dep1, dep2 \u001b[38;5;241m=\u001b[39m np\u001b[38;5;241m.\u001b[39mbroadcast_arrays(\n\u001b[1;32m   5170\u001b[0m     np\u001b[38;5;241m.\u001b[39matleast_1d(ind), dep1, dep2, subok\u001b[38;5;241m=\u001b[39m\u001b[38;5;28;01mTrue\u001b[39;00m)\n\u001b[1;32m   5172\u001b[0m polys \u001b[38;5;241m=\u001b[39m []\n",
      "\u001b[0;31mValueError\u001b[0m: operands could not be broadcast together with shapes (280023,) (15510,) "
     ]
    },
    {
     "data": {
      "image/png": "[encoded data removed]",
      "text/plain": [
       "<Figure size 576x1800 with 6 Axes>"
      ]
     },
     "metadata": {
      "needs_background": "light"
     },
     "output_type": "display_data"
    }
   ],
   "source": [
    "check_data_length(rate)\n",
    "\n",
    "plot_all(rate, throughput, rtt_grad_data, queue_delay, inter_arrival)\n",
    "#plot_data(rtt_grad_data_1)\n"
   ]
  },
  {
   "cell_type": "code",
   "execution_count": null,
   "id": "29fac13a",
   "metadata": {},
   "outputs": [],
   "source": [
    "throughput = read_data('Sprout-RMSE/sprout-throughput-Verizon-LTE.csv')"
   ]
  },
  {
   "cell_type": "code",
   "execution_count": null,
   "id": "62eba1a5",
   "metadata": {},
   "outputs": [],
   "source": [
    "\n",
    "def save_all(*argv):\n",
    "    \n",
    "    TICK_TIME = argv[0][0] / 1000 #First entry in data sets is the tick time in ms\n",
    "    CAPACITY_TRACE_INDEX = 0\n",
    "    \n",
    "    data_sets = len(argv)\n",
    "    \n",
    "    ROWS = data_sets + 1 #+1 for the superposing\n",
    "    COLUMNS = 1\n",
    "    \n",
    "    fig, axs = plt.subplots(2, 2, figsize=(14, 8))\n",
    "    \n",
    "    #fig.suptitle('Shows the trace and the corresponding congestion control metrics')\n",
    "    \n",
    "    color_list = ['pink', 'purple', 'blue', 'olive', 'cyan', 'red', 'orange', 'brown', 'gray']\n",
    "    \n",
    "    data = argv[CAPACITY_TRACE_INDEX]\n",
    "    \n",
    "    #IMPORTANT: argv argument (in this case argv[2]) should be the shortest array of data to ensure correct overlap when plotting\n",
    "    trace_plot_length = get_corresponding_trace_length(argv[CAPACITY_TRACE_INDEX], argv[2])\n",
    "    \n",
    "    titles = [\"Channel Bandwidth\", \"Throughput\", \"RTT Gradient\", \"Queueing Delay\", \"Inter Arrival Time\"]\n",
    "    y_labels = [\"Throughput (Mbit/s)\", \"Throughput (Mbit/s)\", \"RTT Gradient (Dimensionless)\", \"Queuing Delay (s)\", \"Inter Arrival Time (s)\", \"Throughput (Mbit/s)\"]\n",
    "    \n",
    "    for i in range(0, len(argv)):\n",
    "        \n",
    "        if (not (i == CAPACITY_TRACE_INDEX)):\n",
    "            \n",
    "            data = pad_data_with_starting_delay(argv[i])[1:trace_plot_length] #Drop tick time indicator\n",
    "            plot_length = len(data[1:trace_plot_length]) + 1    # +1 to ensure we match the last element\n",
    "            #print(\"NON-TRACE\")\n",
    "            #print(len(data))\n",
    "            #print(plot_length)            \n",
    "        \n",
    "        else:\n",
    "            \n",
    "            data = argv[i][1:trace_plot_length]\n",
    "            plot_length = trace_plot_length - 1 # -1 to ensure we do not add additional datapoint\n",
    "            \n",
    "            #print(\"TRACE\")\n",
    "            #print(len(data))\n",
    "            #print(plot_length)\n",
    "            \n",
    "        x_coord = np.array([(TICK_TIME)*(k+1) for k in np.arange(plot_length)])\n",
    "        \n",
    "        if (i == 0 ):\n",
    "            \n",
    "            axs[0][0].fill_between(x_coord, 0, data, facecolor=color_list[i])\n",
    "            #axs[i].scatter(x_coord, data, color=color_list[i])\n",
    "        \n",
    "            axs[0][0].set_title(titles[i], pad=20, fontsize=14)\n",
    "            axs[0][0].set_xlabel(\"Time (s)\", fontsize=12)\n",
    "            axs[0][0].set_ylabel(y_labels[i], fontsize=12)\n",
    "            \n",
    "        elif i == 2:\n",
    "            \n",
    "            axs[0][1].fill_between(x_coord, 0, data, facecolor=color_list[i])\n",
    "            #axs[i].scatter(x_coord, data, color=color_list[i])\n",
    "        \n",
    "            axs[0][1].set_title(titles[i], pad=20, fontsize=14)\n",
    "            axs[0][1].set_xlabel(\"Time (s)\", fontsize=12)\n",
    "            axs[0][1].set_ylabel(y_labels[i], fontsize=12)\n",
    "        \n",
    "        elif i == 3:\n",
    "            \n",
    "            axs[1][0].fill_between(x_coord, 0, data, facecolor=color_list[i])\n",
    "            #axs[i].scatter(x_coord, data, color=color_list[i])\n",
    "        \n",
    "            axs[1][0].set_title(titles[i], pad=20, fontsize=14)\n",
    "            axs[1][0].set_xlabel(\"Time (s)\", fontsize=12)\n",
    "            axs[1][0].set_ylabel(y_labels[i], fontsize=12)\n",
    "        \n",
    "        elif i == 4:\n",
    "            \n",
    "            axs[1][1].fill_between(x_coord, 0, data, facecolor=color_list[i])\n",
    "            #axs[i].scatter(x_coord, data, color=color_list[i])\n",
    "        \n",
    "            axs[1][1].set_title(titles[i], pad=20, fontsize=14)\n",
    "            axs[1][1].set_xlabel(\"Time (s)\", fontsize=12)\n",
    "            axs[1][1].set_ylabel(y_labels[i], fontsize=12)\n",
    "            \n",
    "        \n",
    "        #axs[i].savefig(titles[i] + \".png\")\n",
    "    \n",
    "    #data_cap = argv[CAPACITY_TRACE_INDEX][1:trace_plot_length]\n",
    "    #data_thr = pad_data_with_starting_delay(argv[1])[1:trace_plot_length]\n",
    "    \n",
    "    #axs[ROWS - 1].fill_between(x_coord, 0, data_cap, facecolor=color_list[CAPACITY_TRACE_INDEX])\n",
    "    #axs[ROWS - 1].fill_between(x_coord, 0, data_thr, facecolor=color_list[1])\n",
    "    #axs[ROWS - 1].set_xlabel(\"Time (s)\", fontsize=12)\n",
    "    #axs[ROWS - 1].set_ylabel(y_labels[ROWS - 1])\n",
    "    \n",
    "    #Label properly\n",
    "    \n",
    "    fig.tight_layout(pad=2.0)\n",
    "    \n",
    "    fig.savefig('sample_output.png', bbox_inches='tight', dpi=1000)\n",
    "    "
   ]
  },
  {
   "cell_type": "code",
   "execution_count": null,
   "id": "c1ab12af",
   "metadata": {
    "scrolled": false
   },
   "outputs": [],
   "source": [
    "\n",
    "#rtt_grad_data = read_data('rtt_grad_data_run_2.csv')\n",
    "#throughput = read_data('throughput_data_run_2.csv')\n",
    "\n",
    "#queue_delay = read_data('queue_delay_data_run_2.csv')\n",
    "#inter_arrival = read_data('inter_arrival_data_run_2.csv')\n",
    "\n",
    "plot_all(rate, throughput)\n",
    "\n",
    "print(throughput[:10])\n",
    "print(rate[:10])\n",
    "\n",
    "rmse = np.sqrt(np.mean((throughput - rate[:len(throughput)])**2))\n",
    "\n",
    "print(rmse)"
   ]
  },
  {
   "cell_type": "code",
   "execution_count": null,
   "id": "bf283c8e",
   "metadata": {},
   "outputs": [],
   "source": [
    "check_data_length(throughput)"
   ]
  },
  {
   "cell_type": "code",
   "execution_count": null,
   "id": "09026326",
   "metadata": {},
   "outputs": [],
   "source": [
    "\n",
    "plot_all(rate, rtt_grad_data_2, throughput_2)\n"
   ]
  },
  {
   "cell_type": "code",
   "execution_count": null,
   "id": "696078e2",
   "metadata": {},
   "outputs": [],
   "source": [
    "plot_all(rate, rtt_grad_data_3, throughput_3)"
   ]
  },
  {
   "cell_type": "code",
   "execution_count": null,
   "id": "8af5c68f",
   "metadata": {},
   "outputs": [],
   "source": [
    "plot_all(rate, rtt_grad_data_4, throughput_4)"
   ]
  },
  {
   "cell_type": "code",
   "execution_count": null,
   "id": "044425a5",
   "metadata": {},
   "outputs": [],
   "source": [
    "plot_all(rate, rtt_grad_data_5, throughput_5)"
   ]
  },
  {
   "cell_type": "code",
   "execution_count": null,
   "id": "6229654a",
   "metadata": {},
   "outputs": [],
   "source": [
    "\n",
    "rtt_grad_data = read_data('rtt_grad_data_test.csv')\n",
    "through = read_data('throughput_data_test.csv')\n",
    "\n",
    "plot_all(rate, rtt_grad_data, through)\n"
   ]
  },
  {
   "cell_type": "code",
   "execution_count": null,
   "id": "dc6a84f3",
   "metadata": {},
   "outputs": [],
   "source": [
    "\n",
    "rtt_grad_data = read_data('rtt_grad_data_test_2.csv')\n",
    "through = read_data('throughput_data_test_2.csv')\n",
    "\n",
    "plot_all(rate, rtt_grad_data, through)\n"
   ]
  },
  {
   "cell_type": "code",
   "execution_count": null,
   "id": "a14d2889",
   "metadata": {},
   "outputs": [],
   "source": [
    "\n",
    "rtt_grad_data = read_data('rtt_grad_data_test_3.csv')\n",
    "through = read_data('throughput_data_test_3.csv')\n",
    "\n",
    "plot_all(rate, rtt_grad_data, through)"
   ]
  },
  {
   "cell_type": "code",
   "execution_count": null,
   "id": "ca15cf80",
   "metadata": {},
   "outputs": [],
   "source": [
    "\n",
    "rtt_grad_data = read_data('rtt_grad_data_test_4.csv')\n",
    "through = read_data('throughput_data_test_4.csv')\n",
    "\n",
    "plot_all(rate, rtt_grad_data, through)"
   ]
  },
  {
   "cell_type": "code",
   "execution_count": null,
   "id": "0a1f9db7",
   "metadata": {},
   "outputs": [],
   "source": [
    "\n",
    "rtt_grad_data = read_data('rtt_grad_data_test_5.csv')\n",
    "through = read_data('throughput_data_test_5.csv')\n",
    "\n",
    "plot_all(rate, rtt_grad_data, through)"
   ]
  },
  {
   "cell_type": "code",
   "execution_count": null,
   "id": "49ab438b",
   "metadata": {},
   "outputs": [],
   "source": [
    "\n",
    "#Check that length is roughly correct\n",
    "trace_length = len(rtt_grad_data) * TICK_TIME #in sec\n",
    "\n",
    "#This will be less than the true length as processing time takes a lot of time\n",
    "print(\"Trace Length: {} \".format(trace_length))"
   ]
  },
  {
   "cell_type": "code",
   "execution_count": null,
   "id": "8203b1b0",
   "metadata": {},
   "outputs": [],
   "source": [
    "#Plot the RTT Gradients versus time\n",
    "\n",
    "#We start at time 20ms - i+1\n",
    "x_coord = np.array([(TICK_TIME)*(i+1) for i in np.arange(len(rtt_grad_data))])\n",
    "y_coord = rtt_grad_data"
   ]
  },
  {
   "cell_type": "code",
   "execution_count": null,
   "id": "ec6c66ec",
   "metadata": {
    "scrolled": true
   },
   "outputs": [],
   "source": [
    "#plt.scatter(x_coord, y_coord)\n",
    "plt.fill_between(x_coord, 0, y_coord, facecolor='blue')\n",
    "\n",
    "plt.show()"
   ]
  },
  {
   "cell_type": "code",
   "execution_count": null,
   "id": "9909e465",
   "metadata": {},
   "outputs": [],
   "source": [
    "fig, axs = plt.subplots(2)\n",
    "fig.suptitle('Vertically stacked subplots')\n",
    "axs[0].fill_between(time[0:58], 0, rate[0:58], facecolor='green')\n",
    "axs[1].fill_between(x_coord, 0, y_coord, facecolor='blue')"
   ]
  },
  {
   "cell_type": "code",
   "execution_count": null,
   "id": "de1556e6",
   "metadata": {},
   "outputs": [],
   "source": [
    "import math\n",
    "\n"
   ]
  },
  {
   "cell_type": "code",
   "execution_count": null,
   "id": "25398dc5",
   "metadata": {},
   "outputs": [],
   "source": [
    "math.isnan(float(\"nan\"))"
   ]
  },
  {
   "cell_type": "code",
   "execution_count": null,
   "id": "e8084866",
   "metadata": {},
   "outputs": [],
   "source": [
    "i == float(\"nan\")"
   ]
  },
  {
   "cell_type": "code",
   "execution_count": null,
   "id": "f711052e",
   "metadata": {},
   "outputs": [],
   "source": []
  }
 ],
 "metadata": {
  "kernelspec": {
   "display_name": "Python 3 (ipykernel)",
   "language": "python",
   "name": "python3"
  },
  "language_info": {
   "codemirror_mode": {
    "name": "ipython",
    "version": 3
   },
   "file_extension": ".py",
   "mimetype": "text/x-python",
   "name": "python",
   "nbconvert_exporter": "python",
   "pygments_lexer": "ipython3",
   "version": "3.9.12"
  }
 },
 "nbformat": 4,
 "nbformat_minor": 5
}
